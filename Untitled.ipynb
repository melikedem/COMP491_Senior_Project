{
 "cells": [
  {
   "cell_type": "code",
   "execution_count": 1,
   "metadata": {},
   "outputs": [
    {
     "data": {
      "application/javascript": [
       "\n",
       "element.text('Hello')\n"
      ],
      "text/plain": [
       "<IPython.core.display.Javascript object>"
      ]
     },
     "metadata": {},
     "output_type": "display_data"
    }
   ],
   "source": [
    "%%javascript\n",
    "\n",
    "element.text('Hello')"
   ]
  },
  {
   "cell_type": "code",
   "execution_count": 2,
   "metadata": {},
   "outputs": [
    {
     "data": {
      "application/javascript": [
       "require.config({\n",
       "    paths: {\n",
       "        'p5': 'https://cdnjs.cloudflare.com/ajax/libs/p5.js/0.6.0/p5.min',\n",
       "        'lodash': 'https://cdnjs.cloudflare.com/ajax/libs/lodash.js/4.17.4/lodash.min'\n",
       "    }\n",
       "});\n"
      ],
      "text/plain": [
       "<IPython.core.display.Javascript object>"
      ]
     },
     "metadata": {},
     "output_type": "display_data"
    }
   ],
   "source": [
    "%%javascript\n",
    "require.config({\n",
    "    paths: {\n",
    "        'p5': 'https://cdnjs.cloudflare.com/ajax/libs/p5.js/0.6.0/p5.min',\n",
    "        'lodash': 'https://cdnjs.cloudflare.com/ajax/libs/lodash.js/4.17.4/lodash.min'\n",
    "    }\n",
    "});"
   ]
  },
  {
   "cell_type": "code",
   "execution_count": 4,
   "metadata": {},
   "outputs": [
    {
     "data": {
      "application/javascript": [
       "\n",
       "window.createSketchView = function (name, dependencies, module) {\n",
       "    \n",
       "    require.undef(name);\n",
       "    \n",
       "    define(name,\n",
       "           ['@jupyter-widgets/base', 'p5', 'lodash'].concat(dependencies),\n",
       "           (widgets, p5, _, ...deps) => {\n",
       "\n",
       "        let viewName = `${name}View`;\n",
       "        \n",
       "        let View = widgets.DOMWidgetView.extend({\n",
       "            initialize: function () {\n",
       "                this.el.setAttribute('style', 'text-align: center;');\n",
       "            },\n",
       "\n",
       "            render: function () {\n",
       "                // pass the model as the last dependency so it can\n",
       "                // be accessed in the sketch\n",
       "                let sketch = module(...deps, this.model);\n",
       "                setTimeout(() => {\n",
       "                    this.sketch = new p5(sketch, this.el);                    \n",
       "                }, 0);\n",
       "            },\n",
       "\n",
       "            remove: function () {\n",
       "                // stop the existing sketch when the view is removed\n",
       "                // so p5.js can cancel the animation frame callback and free up resources\n",
       "                if (this.sketch) {\n",
       "                    this.sketch.remove();\n",
       "                    this.sketch = null;\n",
       "                }\n",
       "            }\n",
       "        });\n",
       "        \n",
       "        return {\n",
       "            [viewName] : View,\n",
       "        };\n",
       "    });\n",
       "}\n"
      ],
      "text/plain": [
       "<IPython.core.display.Javascript object>"
      ]
     },
     "metadata": {},
     "output_type": "display_data"
    }
   ],
   "source": [
    "%%javascript\n",
    "\n",
    "window.createSketchView = function (name, dependencies, module) {\n",
    "    \n",
    "    require.undef(name);\n",
    "    \n",
    "    define(name,\n",
    "           ['@jupyter-widgets/base', 'p5', 'lodash'].concat(dependencies),\n",
    "           (widgets, p5, _, ...deps) => {\n",
    "\n",
    "        let viewName = `${name}View`;\n",
    "        \n",
    "        let View = widgets.DOMWidgetView.extend({\n",
    "            initialize: function () {\n",
    "                this.el.setAttribute('style', 'text-align: center;');\n",
    "            },\n",
    "\n",
    "            render: function () {\n",
    "                // pass the model as the last dependency so it can\n",
    "                // be accessed in the sketch\n",
    "                let sketch = module(...deps, this.model);\n",
    "                setTimeout(() => {\n",
    "                    this.sketch = new p5(sketch, this.el);                    \n",
    "                }, 0);\n",
    "            },\n",
    "\n",
    "            remove: function () {\n",
    "                // stop the existing sketch when the view is removed\n",
    "                // so p5.js can cancel the animation frame callback and free up resources\n",
    "                if (this.sketch) {\n",
    "                    this.sketch.remove();\n",
    "                    this.sketch = null;\n",
    "                }\n",
    "            }\n",
    "        });\n",
    "        \n",
    "        return {\n",
    "            [viewName] : View,\n",
    "        };\n",
    "    });\n",
    "}"
   ]
  },
  {
   "cell_type": "code",
   "execution_count": 6,
   "metadata": {},
   "outputs": [
    {
     "data": {
      "application/javascript": [
       "\n",
       "define('testModule', [], () => {\n",
       "    const [W, H] = [500, 500];\n",
       "    return {W, H};\n",
       "})\n"
      ],
      "text/plain": [
       "<IPython.core.display.Javascript object>"
      ]
     },
     "metadata": {},
     "output_type": "display_data"
    }
   ],
   "source": [
    "%%javascript\n",
    "\n",
    "define('testModule', [], () => {\n",
    "    const [W, H] = [500, 500];\n",
    "    return {W, H};\n",
    "})"
   ]
  },
  {
   "cell_type": "code",
   "execution_count": 7,
   "metadata": {},
   "outputs": [
    {
     "data": {
      "application/javascript": [
       "\n",
       "createSketchView('Sketch2D', ['testModule'], (TestModule, model) => {\n",
       "    return function(p) {\n",
       "        const {W, H} = TestModule;\n",
       "        const [CX, CY] = [W / 2, H / 2];\n",
       "        \n",
       "        p.setup = function(){\n",
       "            p.createCanvas(W, H);\n",
       "            p.rectMode(p.CENTER);\n",
       "        }\n",
       "\n",
       "        p.draw = function () {\n",
       "            p.background('#ddd');\n",
       "            p.translate(CX, CY);\n",
       "            let n = model.get('n_squares');\n",
       "            _.range(n).forEach(i => {\n",
       "                p.push();\n",
       "                p.rotate(p.frameCount / 200 * (i + 1));\n",
       "                p.fill(i * 5, i * 100, i * 150);\n",
       "                p.rect(0, 0, 200, 200);\n",
       "                p.pop();\n",
       "            });\n",
       "        }\n",
       "    };\n",
       "})\n"
      ],
      "text/plain": [
       "<IPython.core.display.Javascript object>"
      ]
     },
     "metadata": {},
     "output_type": "display_data"
    }
   ],
   "source": [
    "%%javascript\n",
    "\n",
    "createSketchView('Sketch2D', ['testModule'], (TestModule, model) => {\n",
    "    return function(p) {\n",
    "        const {W, H} = TestModule;\n",
    "        const [CX, CY] = [W / 2, H / 2];\n",
    "        \n",
    "        p.setup = function(){\n",
    "            p.createCanvas(W, H);\n",
    "            p.rectMode(p.CENTER);\n",
    "        }\n",
    "\n",
    "        p.draw = function () {\n",
    "            p.background('#ddd');\n",
    "            p.translate(CX, CY);\n",
    "            let n = model.get('n_squares');\n",
    "            _.range(n).forEach(i => {\n",
    "                p.push();\n",
    "                p.rotate(p.frameCount / 200 * (i + 1));\n",
    "                p.fill(i * 5, i * 100, i * 150);\n",
    "                p.rect(0, 0, 200, 200);\n",
    "                p.pop();\n",
    "            });\n",
    "        }\n",
    "    };\n",
    "})"
   ]
  },
  {
   "cell_type": "code",
   "execution_count": 8,
   "metadata": {},
   "outputs": [],
   "source": [
    "import ipywidgets as widgets\n",
    "from traitlets import Unicode, Int\n",
    "\n",
    "\n",
    "class Sketch2D(widgets.DOMWidget):\n",
    "    _view_name = Unicode('Sketch2DView').tag(sync=True)\n",
    "    _view_module = Unicode('Sketch2D').tag(sync=True)\n",
    "    _view_module_version = Unicode('0.1.0').tag(sync=True)\n",
    "    n_squares = Int(1).tag(sync=True)"
   ]
  },
  {
   "cell_type": "code",
   "execution_count": 11,
   "metadata": {},
   "outputs": [
    {
     "data": {
      "application/vnd.jupyter.widget-view+json": {
       "model_id": "27b4bc7339744c98888f0a41b74a5123",
       "version_major": 2,
       "version_minor": 0
      },
      "text/plain": [
       "Sketch2D(n_squares=4)"
      ]
     },
     "metadata": {},
     "output_type": "display_data"
    }
   ],
   "source": [
    "sketch_2d = Sketch2D()\n",
    "sketch_2d.n_squares = 4\n",
    "sketch_2d"
   ]
  },
  {
   "cell_type": "code",
   "execution_count": null,
   "metadata": {},
   "outputs": [],
   "source": []
  }
 ],
 "metadata": {
  "kernelspec": {
   "display_name": "Python 3",
   "language": "python",
   "name": "python3"
  },
  "language_info": {
   "codemirror_mode": {
    "name": "ipython",
    "version": 3
   },
   "file_extension": ".py",
   "mimetype": "text/x-python",
   "name": "python",
   "nbconvert_exporter": "python",
   "pygments_lexer": "ipython3",
   "version": "3.7.4"
  }
 },
 "nbformat": 4,
 "nbformat_minor": 2
}
