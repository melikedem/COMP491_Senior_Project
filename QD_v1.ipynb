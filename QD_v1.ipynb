{
  "nbformat": 4,
  "nbformat_minor": 0,
  "metadata": {
    "colab": {
      "name": "QD_v1.ipynb",
      "provenance": []
    },
    "kernelspec": {
      "name": "python3",
      "display_name": "Python 3"
    }
  },
  "cells": [
    {
      "cell_type": "code",
      "metadata": {
        "id": "fp-JLGXQHLN9",
        "colab_type": "code",
        "outputId": "194d2726-4f83-49f3-81b1-86938ee3c3dd",
        "colab": {
          "base_uri": "https://localhost:8080/",
          "height": 210
        }
      },
      "source": [
        "!pip install quickdraw"
      ],
      "execution_count": 2,
      "outputs": [
        {
          "output_type": "stream",
          "text": [
            "Collecting quickdraw\n",
            "  Downloading https://files.pythonhosted.org/packages/36/bf/cfbdbf845acab3169c1ed943c44ce8d76828677276e65631cd05f81853a9/quickdraw-0.1.0-py3-none-any.whl\n",
            "Requirement already satisfied: pillow in /usr/local/lib/python3.6/dist-packages (from quickdraw) (4.3.0)\n",
            "Requirement already satisfied: requests in /usr/local/lib/python3.6/dist-packages (from quickdraw) (2.21.0)\n",
            "Requirement already satisfied: olefile in /usr/local/lib/python3.6/dist-packages (from pillow->quickdraw) (0.46)\n",
            "Requirement already satisfied: urllib3<1.25,>=1.21.1 in /usr/local/lib/python3.6/dist-packages (from requests->quickdraw) (1.24.3)\n",
            "Requirement already satisfied: certifi>=2017.4.17 in /usr/local/lib/python3.6/dist-packages (from requests->quickdraw) (2019.9.11)\n",
            "Requirement already satisfied: idna<2.9,>=2.5 in /usr/local/lib/python3.6/dist-packages (from requests->quickdraw) (2.8)\n",
            "Requirement already satisfied: chardet<3.1.0,>=3.0.2 in /usr/local/lib/python3.6/dist-packages (from requests->quickdraw) (3.0.4)\n",
            "Installing collected packages: quickdraw\n",
            "Successfully installed quickdraw-0.1.0\n"
          ],
          "name": "stdout"
        }
      ]
    },
    {
      "cell_type": "code",
      "metadata": {
        "id": "xRz0aCJ6yruM",
        "colab_type": "code",
        "outputId": "00d51b8a-05c7-4356-8c16-ee52359a6973",
        "colab": {
          "base_uri": "https://localhost:8080/",
          "height": 501
        }
      },
      "source": [
        "from quickdraw import QuickDrawData\n",
        "qd = QuickDrawData()\n",
        "\n",
        "objects = ['bird',\"dog\",\"cat\"]\n",
        "img_lst = []\n",
        "for item in objects:\n",
        "  img_lst.append(qd.get_drawing(item))\n",
        "\n",
        "print(img_lst[0].countrycode)\n",
        "img_lst[0].image"
      ],
      "execution_count": 3,
      "outputs": [
        {
          "output_type": "stream",
          "text": [
            "downloading bird from https://storage.googleapis.com/quickdraw_dataset/full/binary/bird.bin\n",
            "download complete\n",
            "loading bird drawings\n",
            "load complete\n",
            "downloading dog from https://storage.googleapis.com/quickdraw_dataset/full/binary/dog.bin\n",
            "download complete\n",
            "loading dog drawings\n",
            "load complete\n",
            "downloading cat from https://storage.googleapis.com/quickdraw_dataset/full/binary/cat.bin\n",
            "download complete\n",
            "loading cat drawings\n",
            "load complete\n",
            "KH\n"
          ],
          "name": "stdout"
        },
        {
          "output_type": "execute_result",
          "data": {
            "image/png": "[encoded data removed]",
            "text/plain": [
              "<PIL.Image.Image image mode=RGB size=255x255 at 0x7F5D66361550>"
            ]
          },
          "metadata": {
            "tags": []
          },
          "execution_count": 3
        }
      ]
    }
  ]
}