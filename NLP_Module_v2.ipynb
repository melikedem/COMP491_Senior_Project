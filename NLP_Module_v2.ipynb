{
  "nbformat": 4,
  "nbformat_minor": 0,
  "metadata": {
    "colab": {
      "name": "NLP_Module_v2.ipynb",
      "provenance": [],
      "collapsed_sections": []
    },
    "kernelspec": {
      "name": "python3",
      "display_name": "Python 3"
    }
  },
  "cells": [
    {
      "cell_type": "code",
      "metadata": {
        "id": "5cnvcTIXJMab",
        "colab_type": "code",
        "outputId": "fec657f9-937a-4cff-d0a5-fd1a1c71b149",
        "colab": {
          "base_uri": "https://localhost:8080/",
          "height": 284
        }
      },
      "source": [
        "## Installation required when using Google Colab\n",
        "!pip install webcolors\n",
        "!pip install word2number\n",
        "!pip install -r requirements.txt"
      ],
      "execution_count": 0,
      "outputs": [
        {
          "output_type": "stream",
          "text": [
            "Collecting webcolors\n",
            "  Downloading https://files.pythonhosted.org/packages/8b/ff/c21df7e08e68a1a84b947992c07dfed9cfe7219d068cb7728358d065c877/webcolors-1.10-py2.py3-none-any.whl\n",
            "Requirement already satisfied: six in /usr/local/lib/python3.6/dist-packages (from webcolors) (1.12.0)\n",
            "Installing collected packages: webcolors\n",
            "Successfully installed webcolors-1.10\n",
            "Collecting word2number\n",
            "  Downloading https://files.pythonhosted.org/packages/4a/29/a31940c848521f0725f0df6b25dca8917f13a2025b0e8fcbe5d0457e45e6/word2number-1.1.zip\n",
            "Building wheels for collected packages: word2number\n",
            "  Building wheel for word2number (setup.py) ... \u001b[?25l\u001b[?25hdone\n",
            "  Created wheel for word2number: filename=word2number-1.1-cp36-none-any.whl size=5588 sha256=c5800e98aa7944e452dc75eaa5f9dd7f860b1b85106fcb2b0297d341d668f0bd\n",
            "  Stored in directory: /root/.cache/pip/wheels/46/2f/53/5f5c1d275492f2fce1cdab9a9bb12d49286dead829a4078e0e\n",
            "Successfully built word2number\n",
            "Installing collected packages: word2number\n",
            "Successfully installed word2number-1.1\n",
            "\u001b[31mERROR: Could not open requirements file: [Errno 2] No such file or directory: 'requirements.txt'\u001b[0m\n"
          ],
          "name": "stdout"
        }
      ]
    },
    {
      "cell_type": "code",
      "metadata": {
        "id": "8t77NLojKLp-",
        "colab_type": "code",
        "colab": {}
      },
      "source": [
        "## Imports\n",
        "import spacy\n",
        "from spacy import displacy\n",
        "import webcolors\n",
        "from word2number import w2n\n",
        "import json"
      ],
      "execution_count": 0,
      "outputs": []
    },
    {
      "cell_type": "code",
      "metadata": {
        "id": "z6QaB_EYMFDD",
        "colab_type": "code",
        "colab": {}
      },
      "source": [
        "## Object to be used in Sketching module. Contains the necessary details \n",
        "# Find another name?\n",
        "class Object:\n",
        "  def __init__(self, name, color=\"white\", size=1, number = 1, location=\"random\"):\n",
        "    self.name = name\n",
        "    self.color = color\n",
        "    self.size = size\n",
        "    self.number = number\n",
        "    self.location = location\n",
        "  \n",
        "  def print(self):\n",
        "    print(\"Name: \",self.name,\"\\tColor:\",self.color,\" Size:\",self.size,\" Number:\",self.number,\" Location:\",self.location)\n",
        "\n",
        "  def to_json(self):\n",
        "    return json.dumps(self.__dict__)"
      ],
      "execution_count": 0,
      "outputs": []
    },
    {
      "cell_type": "code",
      "metadata": {
        "id": "jcLLaBpVf6Wt",
        "colab_type": "code",
        "colab": {}
      },
      "source": [
        "## Functions to identify what information a feature gives about the object\n",
        "size_map =  [[\"big\",\"enormous\",\"giant\",\"gigantic\",\"fat\",\"great\",\"huge\",\"immense\",\"large\",\"massive\",\"overweight\",\"wide\",\"titanic\",\"thick\",\"tall\"],\n",
        "            [\"little\",\"small\",\"mini\",\"miniature\",\"petite\",\"tiny\",\"thin\",\"slim\",\"short\"]]\n",
        "\n",
        "def isSize(feature_txt):\n",
        "  if(feature_txt in size_map[0]):\n",
        "    return 2\n",
        "  elif(feature_txt in size_map[1]):\n",
        "    return 0.5\n",
        "  else :\n",
        "    return False\n",
        "\n",
        "def isColor(feature_txt):\n",
        "  return (feature_txt in webcolors.CSS3_NAMES_TO_HEX)\n",
        "\n",
        "def isNumber(feature_txt):\n",
        "  try:\n",
        "    w2n.word_to_num(feature_txt)\n",
        "    return True\n",
        "  except:\n",
        "    return False\n",
        "\n",
        "def isPreposition(feature):\n",
        "  return feature.dep_ == \"prep\""
      ],
      "execution_count": 0,
      "outputs": []
    },
    {
      "cell_type": "code",
      "metadata": {
        "id": "vSDVPhjoaCH7",
        "colab_type": "code",
        "colab": {}
      },
      "source": [
        "## Find the main object\n",
        "def main_object(doc):\n",
        "  obj = doc[0]\n",
        "  for token in doc:\n",
        "    if(token.pos_ == \"NOUN\" and obj.pos_ !=\"NOUN\"):\n",
        "      obj = token\n",
        "    if(token.dep_ == \"attr\"):\n",
        "      return token\n",
        "  return obj\n",
        "\n",
        "## Extract the relevant information of the main object\n",
        "\n",
        "def extract_features2(doc, main_obj_token):\n",
        "  ## Object of interest, dependency tag = \"attr\"\n",
        "  # obj = [token for token in doc if (token.dep_ == \"attr\")]\n",
        "  # print(type(obj))\n",
        "  return ([child for child in main_obj_token.children])\n",
        "\n",
        "## Creates an \"Object\" based on the given information\n",
        "def match_features(feature_lst,main_obj_token):\n",
        "  ob = Object(name = main_obj_token.lemma_)\n",
        "  for feature in feature_lst:\n",
        "    feature_txt = feature.lemma_\n",
        "\n",
        "    size = isSize(feature_txt)\n",
        "    if(size):\n",
        "      ob.size = size\n",
        "\n",
        "    elif(isColor(feature_txt)):\n",
        "      ob.color = feature_txt\n",
        "\n",
        "    elif(isNumber(feature_txt)):\n",
        "      number = w2n.word_to_num(feature_txt)\n",
        "      ob.number = number\n",
        "\n",
        "    elif(isPreposition(feature)):\n",
        "      location = [child.lemma_ for child in feature.children if (child.tag_ == \"NN\")][0]\n",
        "      ob.location = { \"Preposition\": feature.lemma_,\n",
        "                      \"Location\": location }\n",
        "\n",
        "  return ob"
      ],
      "execution_count": 0,
      "outputs": []
    },
    {
      "cell_type": "code",
      "metadata": {
        "id": "NTTzJJ1Tnvrx",
        "colab_type": "code",
        "colab": {}
      },
      "source": [
        "def sentence_processing(sentence):\n",
        "  doc = nlp(sentence)\n",
        "  main_obj_token = main_object(doc)\n",
        "  obj = match_features(extract_features2(doc, main_obj_token), main_obj_token)\n",
        "\n",
        "  # print(sentence)\n",
        "  # obj.print()\n",
        "  return obj.to_json()"
      ],
      "execution_count": 0,
      "outputs": []
    },
    {
      "cell_type": "code",
      "metadata": {
        "id": "TO9v64DEMTML",
        "colab_type": "code",
        "colab": {}
      },
      "source": [
        "## Some functions to help analyzing the sentence\n",
        "\n",
        "# Lemma: Base form of the token, with no inflectional suffixes\n",
        "# Part of Speech: Coarse-grained part-of-speech\n",
        "# Tag: Fine-grained part-of-speech\n",
        "# Dep: Syntactic dependency relation\n",
        "\n",
        "def display_tokens(doc):\n",
        "  start = '\\033[36m'\n",
        "  end = \"\\033[0;0m\"\n",
        "  print(start.ljust(45),\"Lemma PoS Tag Dep\",end)\n",
        "\n",
        "  for token in doc:\n",
        "    print(token.text.ljust(40) ,token.lemma_, token.pos_, token.tag_, token.dep_.ljust(30),\"\\t\",spacy.explain(token.dep_))\n",
        "\n",
        "def analyze_dependency(doc):\n",
        "  for token in doc: \n",
        "    print(\"Token:\",token,\"\\n\\tAncestors: \",[ancestor for ancestor in token.ancestors],\"\\n\\tChildren: \",[child for child in token.children])\n",
        "    print(\"-------------------\")\n",
        "\n",
        "def dependency_tree(doc):\n",
        "  return displacy.render(doc, jupyter=True, style='dep')"
      ],
      "execution_count": 0,
      "outputs": []
    },
    {
      "cell_type": "code",
      "metadata": {
        "id": "XvyDx1J6Q56Z",
        "colab_type": "code",
        "outputId": "f8c644e4-7aa7-4a04-d78e-a7bcee5c7d1f",
        "colab": {
          "base_uri": "https://localhost:8080/",
          "height": 212
        }
      },
      "source": [
        "display_tokens(doc)"
      ],
      "execution_count": 0,
      "outputs": [
        {
          "output_type": "stream",
          "text": [
            "\u001b[36m                                         Lemma PoS Tag Dep \u001b[0;0m\n",
            "Three                                    three NUM CD nummod                         \t numeric modifier\n",
            "big                                      big ADJ JJ amod                           \t adjectival modifier\n",
            "blue                                     blue ADJ JJ amod                           \t adjectival modifier\n",
            "birds                                    bird NOUN NNS ROOT                           \t None\n",
            "on                                       on ADP IN prep                           \t prepositional modifier\n",
            "the                                      the DET DT det                            \t determiner\n",
            "roof                                     roof NOUN NN pobj                           \t object of preposition\n",
            "of                                       of ADP IN prep                           \t prepositional modifier\n",
            "the                                      the DET DT det                            \t determiner\n",
            "house                                    house NOUN NN pobj                           \t object of preposition\n"
          ],
          "name": "stdout"
        }
      ]
    }
  ]
}