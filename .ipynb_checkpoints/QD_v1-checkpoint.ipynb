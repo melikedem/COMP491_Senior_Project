{
 "cells": [
  {
   "cell_type": "code",
   "execution_count": 1,
   "metadata": {
    "colab": {
     "base_uri": "https://localhost:8080/",
     "height": 210
    },
    "colab_type": "code",
    "id": "fp-JLGXQHLN9",
    "outputId": "194d2726-4f83-49f3-81b1-86938ee3c3dd"
   },
   "outputs": [
    {
     "name": "stdout",
     "output_type": "stream",
     "text": [
      "Error processing line 3 of /Users/apple/anaconda3/envs/comp491/lib/python3.7/site-packages/google_cloud_translate-1.7.0-py3.6-nspkg.pth:\n",
      "\n",
      "  Traceback (most recent call last):\n",
      "    File \"/Users/apple/anaconda3/envs/comp491/lib/python3.7/site.py\", line 168, in addpackage\n",
      "      exec(line)\n",
      "    File \"<string>\", line 1, in <module>\n",
      "    File \"<frozen importlib._bootstrap>\", line 580, in module_from_spec\n",
      "  AttributeError: 'NoneType' object has no attribute 'loader'\n",
      "\n",
      "Remainder of file ignored\n",
      "Collecting quickdraw\n",
      "  Downloading https://files.pythonhosted.org/packages/36/bf/cfbdbf845acab3169c1ed943c44ce8d76828677276e65631cd05f81853a9/quickdraw-0.1.0-py3-none-any.whl\n",
      "Requirement already satisfied: requests in /Users/apple/anaconda3/envs/comp491/lib/python3.7/site-packages (from quickdraw) (2.22.0)\n",
      "Requirement already satisfied: pillow in /Users/apple/anaconda3/envs/comp491/lib/python3.7/site-packages (from quickdraw) (6.1.0)\n",
      "Requirement already satisfied: idna<2.9,>=2.5 in /Users/apple/anaconda3/envs/comp491/lib/python3.7/site-packages (from requests->quickdraw) (2.8)\n",
      "Requirement already satisfied: urllib3!=1.25.0,!=1.25.1,<1.26,>=1.21.1 in /Users/apple/anaconda3/envs/comp491/lib/python3.7/site-packages (from requests->quickdraw) (1.24.2)\n",
      "Requirement already satisfied: chardet<3.1.0,>=3.0.2 in /Users/apple/anaconda3/envs/comp491/lib/python3.7/site-packages (from requests->quickdraw) (3.0.4)\n",
      "Requirement already satisfied: certifi>=2017.4.17 in /Users/apple/anaconda3/envs/comp491/lib/python3.7/site-packages (from requests->quickdraw) (2019.9.11)\n",
      "Installing collected packages: quickdraw\n",
      "Successfully installed quickdraw-0.1.0\n"
     ]
    }
   ],
   "source": [
    "!pip install quickdraw"
   ]
  },
  {
   "cell_type": "code",
   "execution_count": 2,
   "metadata": {
    "colab": {
     "base_uri": "https://localhost:8080/",
     "height": 501
    },
    "colab_type": "code",
    "id": "xRz0aCJ6yruM",
    "outputId": "00d51b8a-05c7-4356-8c16-ee52359a6973"
   },
   "outputs": [
    {
     "name": "stdout",
     "output_type": "stream",
     "text": [
      "downloading bird from https://storage.googleapis.com/quickdraw_dataset/full/binary/bird.bin\n",
      "download complete\n",
      "loading bird drawings\n",
      "load complete\n",
      "downloading dog from https://storage.googleapis.com/quickdraw_dataset/full/binary/dog.bin\n",
      "download complete\n",
      "loading dog drawings\n",
      "load complete\n",
      "downloading cat from https://storage.googleapis.com/quickdraw_dataset/full/binary/cat.bin\n",
      "download complete\n",
      "loading cat drawings\n",
      "load complete\n",
      "HU\n"
     ]
    },
    {
     "data": {
      "image/png": "[encoded data removed]",
      "text/plain": [
       "<PIL.Image.Image image mode=RGB size=255x255 at 0x1107292D0>"
      ]
     },
     "execution_count": 2,
     "metadata": {},
     "output_type": "execute_result"
    }
   ],
   "source": [
    "from quickdraw import QuickDrawData\n",
    "qd = QuickDrawData()\n",
    "\n",
    "objects = ['bird',\"dog\",\"cat\"]\n",
    "img_lst = []\n",
    "for item in objects:\n",
    "  img_lst.append(qd.get_drawing(item))\n",
    "\n",
    "print(img_lst[0].countrycode)\n",
    "img_lst[0].image"
   ]
  },
  {
   "cell_type": "code",
   "execution_count": null,
   "metadata": {},
   "outputs": [],
   "source": []
  }
 ],
 "metadata": {
  "colab": {
   "name": "QD_v1.ipynb",
   "provenance": []
  },
  "kernelspec": {
   "display_name": "Python 3",
   "language": "python",
   "name": "python3"
  },
  "language_info": {
   "codemirror_mode": {
    "name": "ipython",
    "version": 3
   },
   "file_extension": ".py",
   "mimetype": "text/x-python",
   "name": "python",
   "nbconvert_exporter": "python",
   "pygments_lexer": "ipython3",
   "version": "3.7.4"
  }
 },
 "nbformat": 4,
 "nbformat_minor": 1
}
