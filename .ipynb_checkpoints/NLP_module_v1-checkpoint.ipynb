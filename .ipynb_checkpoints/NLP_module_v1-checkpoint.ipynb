{
 "cells": [
  {
   "cell_type": "code",
   "execution_count": 21,
   "metadata": {},
   "outputs": [],
   "source": [
    "import nltk\n",
    "from nltk.tokenize import RegexpTokenizer\n",
    "from nltk.corpus import stopwords\n",
    "from collections import defaultdict "
   ]
  },
  {
   "cell_type": "code",
   "execution_count": 26,
   "metadata": {},
   "outputs": [],
   "source": [
    "# Tokenizes sentence without punctuation\n",
    "def split_sentence(sentence):\n",
    "    tokenizer = RegexpTokenizer(r'\\w+')\n",
    "    return tokenizer.tokenize(sentence)\n",
    "\n",
    "# Part-of-speech tagging\n",
    "def pos_tagging(sentence):\n",
    "    return nltk.pos_tag(split_sentence(sentence))\n",
    "\n",
    "# Returns a list of nouns (NN) in a pos-tagged sentence\n",
    "def extract_objects(pos_tagged_sentence):\n",
    "    obj_lst=[]\n",
    "    for tagged_word in pos_tagged_sentence:\n",
    "        if(tagged_word[1]==\"NN\"):\n",
    "            obj_lst.append(tagged_word[0])\n",
    "    return obj_lst\n",
    "\n",
    "# Alternative: Returns a dictionary with pos-tags as keys\n",
    "# and list of corresponding words as values \n",
    "def generate_pos_dict(pos_tagged_sentence):\n",
    "    pos_dict = defaultdict(list)\n",
    "    for word in pos_tagged_sentence:\n",
    "        pos_dict[word[1]].append(word[0])\n",
    "    return pos_dict\n",
    "    \n",
    "def test(sentence_lst):\n",
    "    for sentence in sentence_lst:\n",
    "        print(sentence)\n",
    "        print(split_sentence(sentence))\n",
    "        print(pos_tagging(sentence))\n",
    "        print(extract_objects(pos_tagging(sentence)))\n",
    "        print()"
   ]
  },
  {
   "cell_type": "code",
   "execution_count": 32,
   "metadata": {},
   "outputs": [
    {
     "name": "stdout",
     "output_type": "stream",
     "text": [
      "I see a bird and a dog flying\n",
      "['I', 'see', 'a', 'bird', 'and', 'a', 'dog', 'flying']\n",
      "[('I', 'PRP'), ('see', 'VBP'), ('a', 'DT'), ('bird', 'NN'), ('and', 'CC'), ('a', 'DT'), ('dog', 'NN'), ('flying', 'VBG')]\n",
      "['bird', 'dog']\n",
      "\n",
      "There's a flamingo dancing on the roof of the big house.\n",
      "['There', 's', 'a', 'flamingo', 'dancing', 'on', 'the', 'roof', 'of', 'the', 'big', 'house']\n",
      "[('There', 'EX'), ('s', 'VBZ'), ('a', 'DT'), ('flamingo', 'JJ'), ('dancing', 'NN'), ('on', 'IN'), ('the', 'DT'), ('roof', 'NN'), ('of', 'IN'), ('the', 'DT'), ('big', 'JJ'), ('house', 'NN')]\n",
      "['dancing', 'roof', 'house']\n",
      "\n"
     ]
    }
   ],
   "source": [
    "sentence = \"I see a bird and a dog flying\"\n",
    "sentence2 = \"There's a flamingo dancing on the roof of the big house.\"\n",
    "sentence_lst = [sentence,sentence2]\n",
    "\n",
    "test(sentence_lst)"
   ]
  },
  {
   "cell_type": "code",
   "execution_count": 25,
   "metadata": {},
   "outputs": [
    {
     "data": {
      "text/plain": [
       "defaultdict(list,\n",
       "            {'PRP': ['I'],\n",
       "             'VBP': ['see'],\n",
       "             'DT': ['a', 'a'],\n",
       "             'NN': ['bird', 'dog'],\n",
       "             'CC': ['and'],\n",
       "             'VBG': ['flying']})"
      ]
     },
     "execution_count": 25,
     "metadata": {},
     "output_type": "execute_result"
    }
   ],
   "source": [
    "pos_tagged_sentence = pos_tagging(sentence)\n",
    "generate_pos_dict(pos_tagged_sentence)"
   ]
  }
 ],
 "metadata": {
  "kernelspec": {
   "display_name": "Python 3",
   "language": "python",
   "name": "python3"
  },
  "language_info": {
   "codemirror_mode": {
    "name": "ipython",
    "version": 3
   },
   "file_extension": ".py",
   "mimetype": "text/x-python",
   "name": "python",
   "nbconvert_exporter": "python",
   "pygments_lexer": "ipython3",
   "version": "3.7.4"
  }
 },
 "nbformat": 4,
 "nbformat_minor": 2
}
